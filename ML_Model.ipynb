{
  "nbformat": 4,
  "nbformat_minor": 0,
  "metadata": {
    "colab": {
      "provenance": [],
      "authorship_tag": "ABX9TyMhIh0KXqKrkbY8L0ZlH7iL",
      "include_colab_link": true
    },
    "kernelspec": {
      "name": "python3",
      "display_name": "Python 3"
    },
    "language_info": {
      "name": "python"
    }
  },
  "cells": [
    {
      "cell_type": "markdown",
      "metadata": {
        "id": "view-in-github",
        "colab_type": "text"
      },
      "source": [
        "<a href=\"https://colab.research.google.com/github/diyamanapetty/Handwritten-Digit-Recognition/blob/main/ML_Model.ipynb\" target=\"_parent\"><img src=\"https://colab.research.google.com/assets/colab-badge.svg\" alt=\"Open In Colab\"/></a>"
      ]
    },
    {
      "cell_type": "code",
      "source": [
        "import tensorflow\n",
        "from tensorflow import keras\n",
        "import numpy as np\n",
        "import matplotlib.pyplot as plt"
      ],
      "metadata": {
        "id": "5mfLsAxXcef9"
      },
      "execution_count": null,
      "outputs": []
    },
    {
      "cell_type": "markdown",
      "source": [
        "\n",
        "\n",
        "1.   Loading the data\n",
        "2.   Pre-processing\n",
        "3.   Building the ML model\n",
        "4.   Training the model\n",
        "5.   Testing the model\n",
        "\n"
      ],
      "metadata": {
        "id": "zOfcLzibdeGZ"
      }
    },
    {
      "cell_type": "markdown",
      "source": [
        "##**Loading the data**"
      ],
      "metadata": {
        "id": "glbBCOnVWGu7"
      }
    },
    {
      "cell_type": "code",
      "source": [
        "(x_train,y_train),(x_test,y_test) = keras.datasets.mnist.load_data()"
      ],
      "metadata": {
        "colab": {
          "base_uri": "https://localhost:8080/"
        },
        "id": "k-LbGNNvqCsn",
        "outputId": "e30e1ffb-2e03-4f31-b33a-71ec2078f218"
      },
      "execution_count": null,
      "outputs": [
        {
          "output_type": "stream",
          "name": "stdout",
          "text": [
            "Downloading data from https://storage.googleapis.com/tensorflow/tf-keras-datasets/mnist.npz\n",
            "11490434/11490434 [==============================] - 0s 0us/step\n"
          ]
        }
      ]
    },
    {
      "cell_type": "markdown",
      "source": [
        "## **Analyzing and Understanding the data(Optional step)**"
      ],
      "metadata": {
        "id": "4nkmLH-tWOgf"
      }
    },
    {
      "cell_type": "code",
      "source": [
        "print(x_train)"
      ],
      "metadata": {
        "colab": {
          "base_uri": "https://localhost:8080/"
        },
        "id": "RQreXIB-rzZp",
        "outputId": "74cfbd6d-9da2-436d-ca98-06c0fa9b6202"
      },
      "execution_count": null,
      "outputs": [
        {
          "output_type": "stream",
          "name": "stdout",
          "text": [
            "[[[0 0 0 ... 0 0 0]\n",
            "  [0 0 0 ... 0 0 0]\n",
            "  [0 0 0 ... 0 0 0]\n",
            "  ...\n",
            "  [0 0 0 ... 0 0 0]\n",
            "  [0 0 0 ... 0 0 0]\n",
            "  [0 0 0 ... 0 0 0]]\n",
            "\n",
            " [[0 0 0 ... 0 0 0]\n",
            "  [0 0 0 ... 0 0 0]\n",
            "  [0 0 0 ... 0 0 0]\n",
            "  ...\n",
            "  [0 0 0 ... 0 0 0]\n",
            "  [0 0 0 ... 0 0 0]\n",
            "  [0 0 0 ... 0 0 0]]\n",
            "\n",
            " [[0 0 0 ... 0 0 0]\n",
            "  [0 0 0 ... 0 0 0]\n",
            "  [0 0 0 ... 0 0 0]\n",
            "  ...\n",
            "  [0 0 0 ... 0 0 0]\n",
            "  [0 0 0 ... 0 0 0]\n",
            "  [0 0 0 ... 0 0 0]]\n",
            "\n",
            " ...\n",
            "\n",
            " [[0 0 0 ... 0 0 0]\n",
            "  [0 0 0 ... 0 0 0]\n",
            "  [0 0 0 ... 0 0 0]\n",
            "  ...\n",
            "  [0 0 0 ... 0 0 0]\n",
            "  [0 0 0 ... 0 0 0]\n",
            "  [0 0 0 ... 0 0 0]]\n",
            "\n",
            " [[0 0 0 ... 0 0 0]\n",
            "  [0 0 0 ... 0 0 0]\n",
            "  [0 0 0 ... 0 0 0]\n",
            "  ...\n",
            "  [0 0 0 ... 0 0 0]\n",
            "  [0 0 0 ... 0 0 0]\n",
            "  [0 0 0 ... 0 0 0]]\n",
            "\n",
            " [[0 0 0 ... 0 0 0]\n",
            "  [0 0 0 ... 0 0 0]\n",
            "  [0 0 0 ... 0 0 0]\n",
            "  ...\n",
            "  [0 0 0 ... 0 0 0]\n",
            "  [0 0 0 ... 0 0 0]\n",
            "  [0 0 0 ... 0 0 0]]]\n"
          ]
        }
      ]
    },
    {
      "cell_type": "code",
      "source": [
        "print(len(x_train))\n",
        "print(len(y_train))"
      ],
      "metadata": {
        "colab": {
          "base_uri": "https://localhost:8080/"
        },
        "id": "PpMDmW6Ltar_",
        "outputId": "d3af5223-1a60-4881-f993-a212043a9319"
      },
      "execution_count": null,
      "outputs": [
        {
          "output_type": "stream",
          "name": "stdout",
          "text": [
            "60000\n",
            "60000\n"
          ]
        }
      ]
    },
    {
      "cell_type": "code",
      "source": [
        "#print(x_train[0]) #index 0 indicates first image\n",
        "print(x_train[0].shape)"
      ],
      "metadata": {
        "colab": {
          "base_uri": "https://localhost:8080/"
        },
        "id": "xYJjy_OCtnqr",
        "outputId": "fb10fdec-f691-4d90-bc66-eb5cebae1ad1"
      },
      "execution_count": null,
      "outputs": [
        {
          "output_type": "stream",
          "name": "stdout",
          "text": [
            "(28, 28)\n"
          ]
        }
      ]
    },
    {
      "cell_type": "code",
      "source": [
        "plt.matshow(x_train[0]) #plotting the first image of x_train"
      ],
      "metadata": {
        "colab": {
          "base_uri": "https://localhost:8080/",
          "height": 454
        },
        "id": "UmiTqKCSuInx",
        "outputId": "73a8c11c-cd76-4d87-956e-1e93e5e2f07c"
      },
      "execution_count": null,
      "outputs": [
        {
          "output_type": "execute_result",
          "data": {
            "text/plain": [
              "<matplotlib.image.AxesImage at 0x7caa05f425c0>"
            ]
          },
          "metadata": {},
          "execution_count": 6
        },
        {
          "output_type": "display_data",
          "data": {
            "text/plain": [
              "<Figure size 480x480 with 1 Axes>"
            ],
            "image/png": "[encoded data removed]"
          },
          "metadata": {}
        }
      ]
    },
    {
      "cell_type": "code",
      "source": [
        "print(y_train[0])"
      ],
      "metadata": {
        "colab": {
          "base_uri": "https://localhost:8080/"
        },
        "id": "V75y2dxjunHU",
        "outputId": "afd7e73f-a071-4fc2-a5aa-53cad8f6b12c"
      },
      "execution_count": null,
      "outputs": [
        {
          "output_type": "stream",
          "name": "stdout",
          "text": [
            "5\n"
          ]
        }
      ]
    },
    {
      "cell_type": "code",
      "source": [
        "plt.matshow(x_train[31])"
      ],
      "metadata": {
        "colab": {
          "base_uri": "https://localhost:8080/",
          "height": 454
        },
        "id": "TY7guy48vfrJ",
        "outputId": "0d244a79-f336-4aef-a76b-0565b5027140"
      },
      "execution_count": null,
      "outputs": [
        {
          "output_type": "execute_result",
          "data": {
            "text/plain": [
              "<matplotlib.image.AxesImage at 0x7caa00a0fe50>"
            ]
          },
          "metadata": {},
          "execution_count": 8
        },
        {
          "output_type": "display_data",
          "data": {
            "text/plain": [
              "<Figure size 480x480 with 1 Axes>"
            ],
            "image/png": "[encoded data removed]"
          },
          "metadata": {}
        }
      ]
    },
    {
      "cell_type": "code",
      "source": [
        "print(y_train[31])"
      ],
      "metadata": {
        "colab": {
          "base_uri": "https://localhost:8080/"
        },
        "id": "9B6ht6WMuvqY",
        "outputId": "d42397ef-5b6a-4ab8-f340-6574df403826"
      },
      "execution_count": null,
      "outputs": [
        {
          "output_type": "stream",
          "name": "stdout",
          "text": [
            "8\n"
          ]
        }
      ]
    },
    {
      "cell_type": "markdown",
      "source": [
        "you should get the same answer for x and y"
      ],
      "metadata": {
        "id": "J9H4bdmwuq7-"
      }
    },
    {
      "cell_type": "code",
      "source": [
        "print(x_test.shape)"
      ],
      "metadata": {
        "colab": {
          "base_uri": "https://localhost:8080/"
        },
        "id": "G0lV2GI9u41f",
        "outputId": "e5f0daf4-dd1c-4969-ead1-e4aaf821afbc"
      },
      "execution_count": null,
      "outputs": [
        {
          "output_type": "stream",
          "name": "stdout",
          "text": [
            "(10000, 28, 28)\n"
          ]
        }
      ]
    },
    {
      "cell_type": "markdown",
      "source": [
        "10000 indicates number of pictures and 28,28 indicates pixel i.e 28x28"
      ],
      "metadata": {
        "id": "dziOGrB1wIVt"
      }
    },
    {
      "cell_type": "code",
      "source": [
        "plt.matshow(x_test[0])"
      ],
      "metadata": {
        "colab": {
          "base_uri": "https://localhost:8080/",
          "height": 454
        },
        "id": "frf_h4rQwRP5",
        "outputId": "36e4575b-fe78-4d9d-b833-b90bb4c3519a"
      },
      "execution_count": null,
      "outputs": [
        {
          "output_type": "execute_result",
          "data": {
            "text/plain": [
              "<matplotlib.image.AxesImage at 0x7caa008a91e0>"
            ]
          },
          "metadata": {},
          "execution_count": 11
        },
        {
          "output_type": "display_data",
          "data": {
            "text/plain": [
              "<Figure size 480x480 with 1 Axes>"
            ],
            "image/png": "[encoded data removed]"
          },
          "metadata": {}
        }
      ]
    },
    {
      "cell_type": "code",
      "source": [
        "print(y_test)"
      ],
      "metadata": {
        "colab": {
          "base_uri": "https://localhost:8080/"
        },
        "id": "ccDNUtuNwWa6",
        "outputId": "d0dc98ae-9238-49af-8017-fd57900c1c6b"
      },
      "execution_count": null,
      "outputs": [
        {
          "output_type": "stream",
          "name": "stdout",
          "text": [
            "[7 2 1 ... 4 5 6]\n"
          ]
        }
      ]
    },
    {
      "cell_type": "code",
      "source": [
        "print(set(y_test))"
      ],
      "metadata": {
        "colab": {
          "base_uri": "https://localhost:8080/"
        },
        "id": "I51cVZgMxHv-",
        "outputId": "ab13c446-0152-4911-a2ef-08df899a1937"
      },
      "execution_count": null,
      "outputs": [
        {
          "output_type": "stream",
          "name": "stdout",
          "text": [
            "{0, 1, 2, 3, 4, 5, 6, 7, 8, 9}\n"
          ]
        }
      ]
    },
    {
      "cell_type": "code",
      "source": [
        "print(set(y_train))"
      ],
      "metadata": {
        "colab": {
          "base_uri": "https://localhost:8080/"
        },
        "id": "-OWLNbRMxK5H",
        "outputId": "cfcbbc38-06da-44d8-95f8-bbfe3d623cbb"
      },
      "execution_count": null,
      "outputs": [
        {
          "output_type": "stream",
          "name": "stdout",
          "text": [
            "{0, 1, 2, 3, 4, 5, 6, 7, 8, 9}\n"
          ]
        }
      ]
    },
    {
      "cell_type": "markdown",
      "source": [
        "We used set just to see if y_test and y_train me 0 to 9 all numbers are there"
      ],
      "metadata": {
        "id": "QPGyJUqFxkyL"
      }
    },
    {
      "cell_type": "markdown",
      "source": [
        "## **Preprocess data**"
      ],
      "metadata": {
        "id": "XrGIyBnPWjbU"
      }
    },
    {
      "cell_type": "markdown",
      "source": [
        "Example for 3x3\n",
        "\n",
        "values = np.array([\n",
        "    [5,10,5],\n",
        "    [10,5,5],\n",
        "    [5,10,5]\n",
        "])\n",
        "print(values.shape)\n",
        "values_flattened = values.reshape(3*3)\n",
        "print(values_flattened)"
      ],
      "metadata": {
        "id": "BqpxV-TmhF7Y"
      }
    },
    {
      "cell_type": "code",
      "source": [
        "x_train_flattened=x_train.reshape(60000,28*28)\n",
        "x_test_flattened=x_test.reshape(10000,28*28)"
      ],
      "metadata": {
        "id": "RN-U0jM1gf5V"
      },
      "execution_count": null,
      "outputs": []
    },
    {
      "cell_type": "code",
      "source": [
        "print(x_train_flattened.shape)\n",
        "print(x_test_flattened.shape)"
      ],
      "metadata": {
        "colab": {
          "base_uri": "https://localhost:8080/"
        },
        "id": "hFQ7hVknhlCN",
        "outputId": "7bd41250-4686-40bd-8df8-06d3801b0174"
      },
      "execution_count": null,
      "outputs": [
        {
          "output_type": "stream",
          "name": "stdout",
          "text": [
            "(60000, 784)\n",
            "(10000, 784)\n"
          ]
        }
      ]
    },
    {
      "cell_type": "markdown",
      "source": [
        "Both training and testing have been reshaped to 784"
      ],
      "metadata": {
        "id": "uHwN6Wk4h8px"
      }
    },
    {
      "cell_type": "markdown",
      "source": [
        "## **Building the ML model**"
      ],
      "metadata": {
        "id": "YLkO-SUqiCaW"
      }
    },
    {
      "cell_type": "code",
      "source": [
        "model = keras.Sequential([\n",
        "    keras.layers.Dense(300,input_shape=(28*28,),activation='relu'), #Input Layer\n",
        "    keras.layers.Dense(100,activation='sigmoid'), #Hidden Layer\n",
        "    keras.layers.Dense(10,activation='sigmoid') #Output layer\n",
        "])"
      ],
      "metadata": {
        "id": "RGmOsqrNiGnP"
      },
      "execution_count": null,
      "outputs": []
    },
    {
      "cell_type": "markdown",
      "source": [
        "Here in 3rd line 10 is the number of output i.e 0 to 9 there can be 10 outputs and 28*28 i.e 784 is the number of inputs\n",
        "Comma after 28 indicates that it is a tuple of 1 input which is 784(28*28)\n",
        "In first line 300 is the number of outputs for hidden layer. The output of first layer is the input of second layer which is understood and hence it is not necessary to mention the number of inputs in the second line"
      ],
      "metadata": {
        "id": "tCkxpqSZjIXT"
      }
    },
    {
      "cell_type": "code",
      "source": [
        "model.compile(\n",
        "    loss = 'sparse_categorical_crossentropy',\n",
        "    optimizer = 'adam',\n",
        "    metrics = ['accuracy']\n",
        ")"
      ],
      "metadata": {
        "id": "E9u10VCqjEWf"
      },
      "execution_count": null,
      "outputs": []
    },
    {
      "cell_type": "markdown",
      "source": [
        "## **Training the ML model**"
      ],
      "metadata": {
        "id": "sS7gShzbqyJS"
      }
    },
    {
      "cell_type": "code",
      "source": [
        "model.fit(x_train_flattened,y_train,batch_size=500,epochs=12)"
      ],
      "metadata": {
        "colab": {
          "base_uri": "https://localhost:8080/"
        },
        "id": "BLbwZuULqWdO",
        "outputId": "ebae1955-a720-47fd-edbc-8b0b8dc93872"
      },
      "execution_count": null,
      "outputs": [
        {
          "output_type": "stream",
          "name": "stdout",
          "text": [
            "Epoch 1/12\n",
            "120/120 [==============================] - 5s 31ms/step - loss: 0.6906 - accuracy: 0.8239\n",
            "Epoch 2/12\n",
            "120/120 [==============================] - 6s 52ms/step - loss: 0.2691 - accuracy: 0.9290\n",
            "Epoch 3/12\n",
            "120/120 [==============================] - 4s 33ms/step - loss: 0.1976 - accuracy: 0.9451\n",
            "Epoch 4/12\n",
            "120/120 [==============================] - 5s 40ms/step - loss: 0.1597 - accuracy: 0.9540\n",
            "Epoch 5/12\n",
            "120/120 [==============================] - 5s 44ms/step - loss: 0.1377 - accuracy: 0.9609\n",
            "Epoch 6/12\n",
            "120/120 [==============================] - 4s 34ms/step - loss: 0.1209 - accuracy: 0.9649\n",
            "Epoch 7/12\n",
            "120/120 [==============================] - 2s 18ms/step - loss: 0.1072 - accuracy: 0.9694\n",
            "Epoch 8/12\n",
            "120/120 [==============================] - 2s 18ms/step - loss: 0.0989 - accuracy: 0.9712\n",
            "Epoch 9/12\n",
            "120/120 [==============================] - 2s 18ms/step - loss: 0.0930 - accuracy: 0.9725\n",
            "Epoch 10/12\n",
            "120/120 [==============================] - 3s 28ms/step - loss: 0.0831 - accuracy: 0.9754\n",
            "Epoch 11/12\n",
            "120/120 [==============================] - 3s 21ms/step - loss: 0.0793 - accuracy: 0.9765\n",
            "Epoch 12/12\n",
            "120/120 [==============================] - 2s 17ms/step - loss: 0.0768 - accuracy: 0.9768\n"
          ]
        },
        {
          "output_type": "execute_result",
          "data": {
            "text/plain": [
              "<keras.src.callbacks.History at 0x7ca9fd6a1ed0>"
            ]
          },
          "metadata": {},
          "execution_count": 19
        }
      ]
    },
    {
      "cell_type": "markdown",
      "source": [
        "Note: Increasing the epochs won't increase accuracy"
      ],
      "metadata": {
        "id": "0W9-FRZLrjaN"
      }
    },
    {
      "cell_type": "markdown",
      "source": [
        "## **Testing the ML Model**"
      ],
      "metadata": {
        "id": "tDkZZnnrtar7"
      }
    },
    {
      "cell_type": "code",
      "source": [
        "model.evaluate(x_test_flattened,y_test)"
      ],
      "metadata": {
        "colab": {
          "base_uri": "https://localhost:8080/"
        },
        "id": "LZPcVb3NrvK0",
        "outputId": "0308f292-c6e8-4dff-acae-13fbdd4601f2"
      },
      "execution_count": null,
      "outputs": [
        {
          "output_type": "stream",
          "name": "stdout",
          "text": [
            "313/313 [==============================] - 1s 2ms/step - loss: 0.0964 - accuracy: 0.9703\n"
          ]
        },
        {
          "output_type": "execute_result",
          "data": {
            "text/plain": [
              "[0.09641165286302567, 0.970300018787384]"
            ]
          },
          "metadata": {},
          "execution_count": 20
        }
      ]
    },
    {
      "cell_type": "code",
      "source": [
        "index = 6 #checking for 6th image of test\n",
        "\n",
        "score_array = model.predict(x_test_flattened)\n",
        "print(score_array[index])\n",
        "print(np.argmax(score_array[index]))\n",
        "print(y_test[index])"
      ],
      "metadata": {
        "id": "1lGGt8Ihs3f5",
        "colab": {
          "base_uri": "https://localhost:8080/"
        },
        "outputId": "97515d17-adbf-4cba-caca-f2e77c90da49"
      },
      "execution_count": null,
      "outputs": [
        {
          "output_type": "stream",
          "name": "stdout",
          "text": [
            "313/313 [==============================] - 1s 2ms/step\n",
            "[0.01692901 0.14709322 0.04994011 0.00604562 0.9994916  0.14395337\n",
            " 0.14210927 0.20018198 0.63628227 0.5594702 ]\n",
            "4\n",
            "4\n"
          ]
        }
      ]
    },
    {
      "cell_type": "markdown",
      "source": [
        "It shows that 6th image is 4.We'll check it by plotting it. Here 0.87, 093, and all shows accuracy\n"
      ],
      "metadata": {
        "id": "IV_AS5i4uraf"
      }
    },
    {
      "cell_type": "code",
      "source": [
        "plt.matshow(x_test[index])"
      ],
      "metadata": {
        "colab": {
          "base_uri": "https://localhost:8080/",
          "height": 454
        },
        "id": "gCz1W_Gbtzrj",
        "outputId": "d0683359-5ba5-42a2-9e7d-90578386eaef"
      },
      "execution_count": null,
      "outputs": [
        {
          "output_type": "execute_result",
          "data": {
            "text/plain": [
              "<matplotlib.image.AxesImage at 0x7ca9fdee85e0>"
            ]
          },
          "metadata": {},
          "execution_count": 22
        },
        {
          "output_type": "display_data",
          "data": {
            "text/plain": [
              "<Figure size 480x480 with 1 Axes>"
            ],
            "image/png": "[encoded data removed]"
          },
          "metadata": {}
        }
      ]
    },
    {
      "cell_type": "markdown",
      "source": [
        "## **Uploading custom image**"
      ],
      "metadata": {
        "id": "ugWrc6oc4B2e"
      }
    },
    {
      "cell_type": "code",
      "source": [
        "import os\n",
        "import cv2"
      ],
      "metadata": {
        "id": "mw3OSRiXujJ-"
      },
      "execution_count": null,
      "outputs": []
    },
    {
      "cell_type": "code",
      "source": [
        "#os.mkdir('./test_data')"
      ],
      "metadata": {
        "id": "SIPeWUQR4KKk"
      },
      "execution_count": null,
      "outputs": []
    },
    {
      "cell_type": "markdown",
      "source": [
        "you should run this only once. Once the folder is made if you'll run it again it will show an error. Hence comment out the statement once the folder is made. So if you'll run again it won't show an error"
      ],
      "metadata": {
        "id": "0qfPor3T4lVd"
      }
    },
    {
      "cell_type": "code",
      "source": [
        "def resize_image(image):\n",
        "  image = np.array(image)\n",
        "  image = cv2.resize(image,(28,28))\n",
        "  image = cv2.bitwise_not(image) #reverse black and white\n",
        "  return image"
      ],
      "metadata": {
        "id": "3JqnKpwP4cO7"
      },
      "execution_count": null,
      "outputs": []
    },
    {
      "cell_type": "code",
      "source": [
        "image = cv2.imread('./test_data/image.jpg')\n",
        "image = cv2.cvtColor(image,cv2.COLOR_BGR2GRAY)\n",
        "resized_image = resize_image(image)"
      ],
      "metadata": {
        "id": "pE-2vVCk6bD_"
      },
      "execution_count": null,
      "outputs": []
    },
    {
      "cell_type": "markdown",
      "source": [
        "To convert the image into black and white we use gray scale"
      ],
      "metadata": {
        "id": "tRRPWhli8VOF"
      }
    },
    {
      "cell_type": "code",
      "source": [
        "plt.matshow(resized_image)"
      ],
      "metadata": {
        "colab": {
          "base_uri": "https://localhost:8080/",
          "height": 454
        },
        "id": "Wb4spg8C64u1",
        "outputId": "6095f4d5-715e-4419-bfc7-8d79423f75f1"
      },
      "execution_count": null,
      "outputs": [
        {
          "output_type": "execute_result",
          "data": {
            "text/plain": [
              "<matplotlib.image.AxesImage at 0x7ca9dffbd8d0>"
            ]
          },
          "metadata": {},
          "execution_count": 31
        },
        {
          "output_type": "display_data",
          "data": {
            "text/plain": [
              "<Figure size 480x480 with 1 Axes>"
            ],
            "image/png": "[encoded data removed]"
          },
          "metadata": {}
        }
      ]
    },
    {
      "cell_type": "markdown",
      "source": [
        "Matshow khud color daalta hai. To keep the original image as it is that is in black and white, we'll use cmap binary. Binary has only two colors. Note the above step plt.matshow(image) is not necessary. It will give coloured image. So we must write the following step instead of the above one to give a black and white image"
      ],
      "metadata": {
        "id": "-YTV_j_Z7qTN"
      }
    },
    {
      "cell_type": "code",
      "source": [
        "plt.matshow(resized_image,cmap=plt.cm.binary)"
      ],
      "metadata": {
        "colab": {
          "base_uri": "https://localhost:8080/",
          "height": 454
        },
        "id": "2SZ26rzV67PB",
        "outputId": "1d5e9669-6143-4128-b78b-41bb41132313"
      },
      "execution_count": null,
      "outputs": [
        {
          "output_type": "execute_result",
          "data": {
            "text/plain": [
              "<matplotlib.image.AxesImage at 0x7ca9dfe26c50>"
            ]
          },
          "metadata": {},
          "execution_count": 32
        },
        {
          "output_type": "display_data",
          "data": {
            "text/plain": [
              "<Figure size 480x480 with 1 Axes>"
            ],
            "image/png": "[encoded data removed]"
          },
          "metadata": {}
        }
      ]
    },
    {
      "cell_type": "code",
      "source": [
        "resized_image.shape"
      ],
      "metadata": {
        "colab": {
          "base_uri": "https://localhost:8080/"
        },
        "id": "dcikOtniftsj",
        "outputId": "0f0da0d1-229a-486a-d0cc-bdd92a1e9aed"
      },
      "execution_count": null,
      "outputs": [
        {
          "output_type": "execute_result",
          "data": {
            "text/plain": [
              "(28, 28)"
            ]
          },
          "metadata": {},
          "execution_count": 33
        }
      ]
    },
    {
      "cell_type": "code",
      "source": [
        "def predicting(image):\n",
        "  image = image.reshape(1,28*28)\n",
        "  score_array = model.predict(image)\n",
        "  prediction = np.argmax(score_array)\n",
        "  return prediction"
      ],
      "metadata": {
        "id": "iTgO06vnfxC6"
      },
      "execution_count": null,
      "outputs": []
    },
    {
      "cell_type": "markdown",
      "source": [
        "You can either reshape the model, increase the dimension or put it into numpy array\n",
        "Here we have used numpy\n",
        "\n"
      ],
      "metadata": {
        "id": "qFdVBvM3gAEu"
      }
    },
    {
      "cell_type": "code",
      "source": [
        "print(predicting(resized_image))"
      ],
      "metadata": {
        "colab": {
          "base_uri": "https://localhost:8080/"
        },
        "id": "eb2-Ms9DgxLL",
        "outputId": "f183331c-643a-4243-f2ad-66696f4b5c65"
      },
      "execution_count": null,
      "outputs": [
        {
          "output_type": "stream",
          "name": "stdout",
          "text": [
            "1/1 [==============================] - 0s 22ms/step\n",
            "2\n"
          ]
        }
      ]
    },
    {
      "cell_type": "markdown",
      "source": [
        "Saving our model"
      ],
      "metadata": {
        "id": "zGKQ9N66mW5r"
      }
    },
    {
      "cell_type": "code",
      "source": [
        "os.mkdir('./saved_models')"
      ],
      "metadata": {
        "id": "REEMVi3xmkDm"
      },
      "execution_count": null,
      "outputs": []
    },
    {
      "cell_type": "code",
      "source": [
        "model.save('./saved_models')"
      ],
      "metadata": {
        "id": "_L1UWWn4mv9u"
      },
      "execution_count": null,
      "outputs": []
    },
    {
      "cell_type": "code",
      "source": [
        "!zip -r ./saved_models.zip ./saved_models"
      ],
      "metadata": {
        "colab": {
          "base_uri": "https://localhost:8080/"
        },
        "id": "MGJO3hP_nFCk",
        "outputId": "44a6223a-e8e7-419f-a804-3b6fd623f422"
      },
      "execution_count": null,
      "outputs": [
        {
          "output_type": "stream",
          "name": "stdout",
          "text": [
            "  adding: saved_models/ (stored 0%)\n",
            "  adding: saved_models/fingerprint.pb (stored 0%)\n",
            "  adding: saved_models/keras_metadata.pb (deflated 86%)\n",
            "  adding: saved_models/assets/ (stored 0%)\n",
            "  adding: saved_models/variables/ (stored 0%)\n",
            "  adding: saved_models/variables/variables.data-00000-of-00001 (deflated 12%)\n",
            "  adding: saved_models/variables/variables.index (deflated 58%)\n",
            "  adding: saved_models/saved_model.pb (deflated 86%)\n"
          ]
        }
      ]
    }
  ]
}